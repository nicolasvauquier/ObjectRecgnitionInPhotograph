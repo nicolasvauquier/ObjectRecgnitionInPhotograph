{
 "cells": [
  {
   "cell_type": "markdown",
   "metadata": {
    "collapsed": true
   },
   "source": [
    "# ** Construction of a CNN **"
   ]
  },
  {
   "cell_type": "code",
   "execution_count": 2,
   "metadata": {},
   "outputs": [],
   "source": [
    "import numpy\n",
    "from keras.datasets import cifar10\n",
    "from keras.models import Sequential\n",
    "from keras.layers import Dense\n",
    "from keras.layers import Dropout\n",
    "from keras.layers import Flatten\n",
    "from keras.constraints import maxnorm\n",
    "from keras.optimizers import SGD\n",
    "from keras.layers.convolutional import Conv2D\n",
    "from keras.layers.convolutional import MaxPooling2D\n",
    "from keras.utils import np_utils\n",
    "from keras import backend as K\n",
    "K.set_image_dim_ordering('th')\n",
    "\n",
    "# Assure la reproductibilité\n",
    "seed = 7\n",
    "numpy.random.seed(seed)\n",
    "\n",
    "# Charger les données\n",
    "(X_train, y_train), num_classes(X_test, y_test) = cifar10.load_data()\n",
    "\n",
    "# Normalisation\n",
    "\n",
    "X_train = X_train.astype('float32')\n",
    "X_test = X_test.astype('float32')\n",
    "\n",
    "X_train = X_train/255.0\n",
    "X_test = X_test/255.0\n",
    "\n",
    "# Encodage du vecteur d'apprentissage\n",
    "\n",
    "y_train = np_utils.to_categorical(y_train)\n",
    "y_test = np_utils.to_categorical(y_test)\n",
    "num_classes = y_test.shape[1]"
   ]
  },
  {
   "cell_type": "markdown",
   "metadata": {},
   "source": [
    "### Elaboration du modèle"
   ]
  },
  {
   "cell_type": "code",
   "execution_count": 11,
   "metadata": {},
   "outputs": [],
   "source": [
    "model = Sequential()\n",
    "model.add(Conv2D(32, (3, 3), input_shape=(3, 32, 32), activation='relu', padding='same'))\n",
    "model.add(Dropout(0.2))\n",
    "model.add(Conv2D(32, (3, 3), input_shape=(3, 32, 32), activation='relu', padding='same'))\n",
    "model.add(MaxPooling2D(pool_size=(2, 2)))\n",
    "\n",
    "model.add(Conv2D(64, (3, 3), input_shape=(3, 32, 32), activation='relu', padding='same'))\n",
    "model.add(Dropout(0.2))\n",
    "model.add(Conv2D(64, (3, 3), input_shape=(3, 32, 32), activation='relu', padding='same'))\n",
    "model.add(MaxPooling2D(pool_size=(2, 2)))\n",
    "\n",
    "model.add(Conv2D(128, (3, 3), input_shape=(3, 32, 32), activation='relu', padding='same'))\n",
    "model.add(Dropout(0.2))\n",
    "model.add(Conv2D(128, (3, 3), input_shape=(3, 32, 32), activation='relu', padding='same'))\n",
    "model.add(MaxPooling2D(pool_size=(2, 2)))\n",
    "\n",
    "model.add(Conv2D(256, (3, 3), input_shape=(3, 32, 32), activation='relu', padding='same'))\n",
    "model.add(Dropout(0.2))\n",
    "model.add(Conv2D(256, (3, 3), input_shape=(3, 32, 32), activation='relu', padding='same'))\n",
    "model.add(MaxPooling2D(pool_size=(2, 2)))\n",
    "\n",
    "model.add(Flatten())\n",
    "model.add(Dropout(0.2))\n",
    "model.add(Dense(2048, activation='relu', kernel_constraint=maxnorm(3)))\n",
    "\n",
    "model.add(Dropout(0.2))\n",
    "model.add(Dense(1024, activation='relu', kernel_constraint=maxnorm(3)))\n",
    "\n",
    "model.add(Dropout(0.2))\n",
    "model.add(Dense(512, activation='relu', kernel_constraint=maxnorm(3)))\n",
    "\n",
    "model.add(Dense(num_classes, activation='softmax'))"
   ]
  },
  {
   "cell_type": "code",
   "execution_count": 12,
   "metadata": {},
   "outputs": [
    {
     "name": "stdout",
     "output_type": "stream",
     "text": [
      "Train on 50000 samples, validate on 10000 samples\nEpoch 1/50\n"
     ]
    },
    {
     "name": "stdout",
     "output_type": "stream",
     "text": [
      "129s - loss: 2.0791 - acc: 0.2224 - val_loss: 1.8652 - val_acc: 0.2923\nEpoch 2/50\n"
     ]
    },
    {
     "name": "stdout",
     "output_type": "stream",
     "text": [
      "124s - loss: 1.6876 - acc: 0.3711 - val_loss: 1.6996 - val_acc: 0.3893\nEpoch 3/50\n"
     ]
    },
    {
     "name": "stdout",
     "output_type": "stream",
     "text": [
      "122s - loss: 1.4659 - acc: 0.4581 - val_loss: 1.3396 - val_acc: 0.5038\nEpoch 4/50\n"
     ]
    },
    {
     "name": "stdout",
     "output_type": "stream",
     "text": [
      "122s - loss: 1.3042 - acc: 0.5240 - val_loss: 1.2007 - val_acc: 0.5635\nEpoch 5/50\n"
     ]
    },
    {
     "name": "stdout",
     "output_type": "stream",
     "text": [
      "121s - loss: 1.1713 - acc: 0.5766 - val_loss: 1.1327 - val_acc: 0.5902\nEpoch 6/50\n"
     ]
    },
    {
     "name": "stdout",
     "output_type": "stream",
     "text": [
      "122s - loss: 1.0520 - acc: 0.6236 - val_loss: 1.0613 - val_acc: 0.6213\nEpoch 7/50\n"
     ]
    },
    {
     "name": "stdout",
     "output_type": "stream",
     "text": [
      "122s - loss: 0.9426 - acc: 0.6656 - val_loss: 0.9307 - val_acc: 0.6754\nEpoch 8/50\n"
     ]
    },
    {
     "name": "stdout",
     "output_type": "stream",
     "text": [
      "122s - loss: 0.8639 - acc: 0.6937 - val_loss: 0.8494 - val_acc: 0.7043\nEpoch 9/50\n"
     ]
    },
    {
     "name": "stdout",
     "output_type": "stream",
     "text": [
      "122s - loss: 0.7891 - acc: 0.7226 - val_loss: 0.8230 - val_acc: 0.7146\nEpoch 10/50\n"
     ]
    },
    {
     "name": "stdout",
     "output_type": "stream",
     "text": [
      "122s - loss: 0.7326 - acc: 0.7408 - val_loss: 0.8092 - val_acc: 0.7249\nEpoch 11/50\n"
     ]
    },
    {
     "name": "stdout",
     "output_type": "stream",
     "text": [
      "122s - loss: 0.6743 - acc: 0.7619 - val_loss: 0.7444 - val_acc: 0.7440\nEpoch 12/50\n"
     ]
    },
    {
     "name": "stdout",
     "output_type": "stream",
     "text": [
      "122s - loss: 0.6231 - acc: 0.7808 - val_loss: 0.7380 - val_acc: 0.7486\nEpoch 13/50\n"
     ]
    },
    {
     "name": "stdout",
     "output_type": "stream",
     "text": [
      "122s - loss: 0.5811 - acc: 0.7962 - val_loss: 0.7449 - val_acc: 0.7472\nEpoch 14/50\n"
     ]
    },
    {
     "name": "stdout",
     "output_type": "stream",
     "text": [
      "122s - loss: 0.5361 - acc: 0.8120 - val_loss: 0.6674 - val_acc: 0.7749\nEpoch 15/50\n"
     ]
    },
    {
     "name": "stdout",
     "output_type": "stream",
     "text": [
      "122s - loss: 0.5038 - acc: 0.8245 - val_loss: 0.7253 - val_acc: 0.7621\nEpoch 16/50\n"
     ]
    },
    {
     "name": "stdout",
     "output_type": "stream",
     "text": [
      "122s - loss: 0.4658 - acc: 0.8372 - val_loss: 0.6857 - val_acc: 0.7718\nEpoch 17/50\n"
     ]
    },
    {
     "name": "stdout",
     "output_type": "stream",
     "text": [
      "122s - loss: 0.4399 - acc: 0.8437 - val_loss: 0.6710 - val_acc: 0.7788\nEpoch 18/50\n"
     ]
    },
    {
     "name": "stdout",
     "output_type": "stream",
     "text": [
      "122s - loss: 0.4159 - acc: 0.8521 - val_loss: 0.6799 - val_acc: 0.7793\nEpoch 19/50\n"
     ]
    },
    {
     "name": "stdout",
     "output_type": "stream",
     "text": [
      "122s - loss: 0.3858 - acc: 0.8649 - val_loss: 0.6626 - val_acc: 0.7841\nEpoch 20/50\n"
     ]
    },
    {
     "name": "stdout",
     "output_type": "stream",
     "text": [
      "122s - loss: 0.3592 - acc: 0.8726 - val_loss: 0.6722 - val_acc: 0.7876\nEpoch 21/50\n"
     ]
    },
    {
     "name": "stdout",
     "output_type": "stream",
     "text": [
      "122s - loss: 0.3361 - acc: 0.8817 - val_loss: 0.7028 - val_acc: 0.7785\nEpoch 22/50\n"
     ]
    },
    {
     "name": "stdout",
     "output_type": "stream",
     "text": [
      "122s - loss: 0.3183 - acc: 0.8859 - val_loss: 0.6531 - val_acc: 0.7937\nEpoch 23/50\n"
     ]
    },
    {
     "name": "stdout",
     "output_type": "stream",
     "text": [
      "122s - loss: 0.3020 - acc: 0.8930 - val_loss: 0.6649 - val_acc: 0.7920\nEpoch 24/50\n"
     ]
    },
    {
     "name": "stdout",
     "output_type": "stream",
     "text": [
      "122s - loss: 0.2846 - acc: 0.8994 - val_loss: 0.6713 - val_acc: 0.7930\nEpoch 25/50\n"
     ]
    },
    {
     "name": "stdout",
     "output_type": "stream",
     "text": [
      "122s - loss: 0.2645 - acc: 0.9073 - val_loss: 0.7118 - val_acc: 0.7898\nEpoch 26/50\n"
     ]
    },
    {
     "name": "stdout",
     "output_type": "stream",
     "text": [
      "122s - loss: 0.2489 - acc: 0.9113 - val_loss: 0.6825 - val_acc: 0.7976\nEpoch 27/50\n"
     ]
    },
    {
     "name": "stdout",
     "output_type": "stream",
     "text": [
      "122s - loss: 0.2339 - acc: 0.9170 - val_loss: 0.7342 - val_acc: 0.7901\nEpoch 28/50\n"
     ]
    },
    {
     "name": "stdout",
     "output_type": "stream",
     "text": [
      "122s - loss: 0.2225 - acc: 0.9204 - val_loss: 0.7050 - val_acc: 0.7955\nEpoch 29/50\n"
     ]
    },
    {
     "name": "stdout",
     "output_type": "stream",
     "text": [
      "122s - loss: 0.2093 - acc: 0.9252 - val_loss: 0.7137 - val_acc: 0.7931\nEpoch 30/50\n"
     ]
    },
    {
     "name": "stdout",
     "output_type": "stream",
     "text": [
      "122s - loss: 0.1973 - acc: 0.9287 - val_loss: 0.7296 - val_acc: 0.7965\nEpoch 31/50\n"
     ]
    },
    {
     "name": "stdout",
     "output_type": "stream",
     "text": [
      "123s - loss: 0.1904 - acc: 0.9314 - val_loss: 0.7242 - val_acc: 0.8046\nEpoch 32/50\n"
     ]
    },
    {
     "name": "stdout",
     "output_type": "stream",
     "text": [
      "123s - loss: 0.1804 - acc: 0.9362 - val_loss: 0.7438 - val_acc: 0.7954\nEpoch 33/50\n"
     ]
    },
    {
     "name": "stdout",
     "output_type": "stream",
     "text": [
      "122s - loss: 0.1730 - acc: 0.9380 - val_loss: 0.7385 - val_acc: 0.8000\nEpoch 34/50\n"
     ]
    },
    {
     "name": "stdout",
     "output_type": "stream",
     "text": [
      "122s - loss: 0.1577 - acc: 0.9435 - val_loss: 0.7600 - val_acc: 0.7970\nEpoch 35/50\n"
     ]
    },
    {
     "name": "stdout",
     "output_type": "stream",
     "text": [
      "123s - loss: 0.1531 - acc: 0.9454 - val_loss: 0.7400 - val_acc: 0.8018\nEpoch 36/50\n"
     ]
    },
    {
     "name": "stdout",
     "output_type": "stream",
     "text": [
      "123s - loss: 0.1483 - acc: 0.9473 - val_loss: 0.7558 - val_acc: 0.8014\nEpoch 37/50\n"
     ]
    },
    {
     "name": "stdout",
     "output_type": "stream",
     "text": [
      "123s - loss: 0.1420 - acc: 0.9489 - val_loss: 0.7574 - val_acc: 0.8018\nEpoch 38/50\n"
     ]
    },
    {
     "name": "stdout",
     "output_type": "stream",
     "text": [
      "124s - loss: 0.1323 - acc: 0.9539 - val_loss: 0.8037 - val_acc: 0.7954\nEpoch 39/50\n"
     ]
    },
    {
     "name": "stdout",
     "output_type": "stream",
     "text": [
      "123s - loss: 0.1294 - acc: 0.9540 - val_loss: 0.7858 - val_acc: 0.8016\nEpoch 40/50\n"
     ]
    },
    {
     "name": "stdout",
     "output_type": "stream",
     "text": [
      "123s - loss: 0.1237 - acc: 0.9571 - val_loss: 0.7906 - val_acc: 0.8036\nEpoch 41/50\n"
     ]
    },
    {
     "name": "stdout",
     "output_type": "stream",
     "text": [
      "123s - loss: 0.1163 - acc: 0.9591 - val_loss: 0.7831 - val_acc: 0.8039\nEpoch 42/50\n"
     ]
    },
    {
     "name": "stdout",
     "output_type": "stream",
     "text": [
      "125s - loss: 0.1126 - acc: 0.9597 - val_loss: 0.8001 - val_acc: 0.8023\nEpoch 43/50\n"
     ]
    },
    {
     "name": "stdout",
     "output_type": "stream",
     "text": [
      "123s - loss: 0.1080 - acc: 0.9618 - val_loss: 0.8027 - val_acc: 0.8045\nEpoch 44/50\n"
     ]
    },
    {
     "name": "stdout",
     "output_type": "stream",
     "text": [
      "122s - loss: 0.1025 - acc: 0.9632 - val_loss: 0.8113 - val_acc: 0.8057\nEpoch 45/50\n"
     ]
    },
    {
     "name": "stdout",
     "output_type": "stream",
     "text": [
      "123s - loss: 0.0979 - acc: 0.9654 - val_loss: 0.8347 - val_acc: 0.8032\nEpoch 46/50\n"
     ]
    },
    {
     "name": "stdout",
     "output_type": "stream",
     "text": [
      "123s - loss: 0.0942 - acc: 0.9663 - val_loss: 0.8155 - val_acc: 0.8065\nEpoch 47/50\n"
     ]
    },
    {
     "name": "stdout",
     "output_type": "stream",
     "text": [
      "122s - loss: 0.0955 - acc: 0.9662 - val_loss: 0.8308 - val_acc: 0.8048\nEpoch 48/50\n"
     ]
    },
    {
     "name": "stdout",
     "output_type": "stream",
     "text": [
      "123s - loss: 0.0917 - acc: 0.9680 - val_loss: 0.8246 - val_acc: 0.8082\nEpoch 49/50\n"
     ]
    }
   ],
   "source": [
    "epochs = 50\n",
    "lrate = 0.01\n",
    "decay = lrate/epochs\n",
    "sgd = SGD(lr=lrate, momentum=0.9, decay=decay, nesterov=False)\n",
    "model.compile(loss='categorical_crossentropy', optimizer=sgd, metrics=['accuracy'])\n",
    "#print(model.summary())\n",
    "model.fit(X_train, y_train, validation_data=(X_test, y_test), epochs=epochs, batch_size=64, verbose=2)\n",
    "\n",
    "scores = model.evaluate(X_test, t_test, verbose=0)"
   ]
  },
  {
   "cell_type": "code",
   "execution_count": null,
   "metadata": {},
   "outputs": [],
   "source": [
    ""
   ]
  }
 ],
 "metadata": {
  "kernelspec": {
   "display_name": "Python 2",
   "language": "python",
   "name": "python2"
  },
  "language_info": {
   "codemirror_mode": {
    "name": "ipython",
    "version": 2.0
   },
   "file_extension": ".py",
   "mimetype": "text/x-python",
   "name": "python",
   "nbconvert_exporter": "python",
   "pygments_lexer": "ipython2",
   "version": "2.7.6"
  }
 },
 "nbformat": 4,
 "nbformat_minor": 0
}